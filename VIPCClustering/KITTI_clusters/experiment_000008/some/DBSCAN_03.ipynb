{
 "cells": [
  {
   "cell_type": "code",
   "execution_count": 3,
   "metadata": {},
   "outputs": [
    {
     "name": "stdout",
     "output_type": "stream",
     "text": [
      "Количество кластеров: 442\n",
      "Количество кластеров: 442\n"
     ]
    }
   ],
   "source": [
    "import open3d as o3d\n",
    "import numpy as np\n",
    "from sklearn.cluster import DBSCAN\n",
    "from sklearn.preprocessing import StandardScaler\n",
    "\n",
    "# Путь к файлу с облаком точек\n",
    "# clustered_ply_file = 'D:/Cluster_proj/examples/KITTI_DATA/velodyne/000008.bin'\n",
    "clustered_ply_file = 'D:/Cluster_proj/VIPCClustering/data/KITTI/velodyne/000008.bin'\n",
    "# Загрузка данных из файла\n",
    "with open(clustered_ply_file, 'rb') as f:\n",
    "    # Чтение данных из файла в массив numpy\n",
    "    velo_points = np.fromfile(f, dtype=np.float32).reshape(-1, 4)\n",
    "\n",
    "# Преобразование в облако точек Open3D\n",
    "pcd = o3d.geometry.PointCloud()\n",
    "pcd.points = o3d.utility.Vector3dVector(velo_points[:, :3])\n",
    "\n",
    "# Масштабирование данных\n",
    "scaler = StandardScaler()\n",
    "scaled_points_np = scaler.fit_transform(velo_points[:, :3])\n",
    "\n",
    "# Кластеризация DBSCAN\n",
    "eps = 0.1  # Пример значения для параметра epsilon\n",
    "min_samples = 10  # Пример значения для параметра min_samples\n",
    "dbscan = DBSCAN(eps=eps, min_samples=min_samples)\n",
    "labels = dbscan.fit_predict(scaled_points_np)\n",
    "num_clusters_max = labels.max() + 1\n",
    "num_clusters_min = len(np.unique(labels)) - 1  # Исключаем выбросы\n",
    "\n",
    "# Создание вектора цветов для визуализации кластеров\n",
    "num_points = len(velo_points)\n",
    "colors = np.zeros((num_points, 3))  # Создание массива нулевых цветов для всех точек\n",
    "for label in np.unique(labels):\n",
    "    if label == -1:\n",
    "        continue  # Пропустить выбросы\n",
    "    mask = labels == label\n",
    "    colors[mask] = np.random.rand(1, 3)  # Установка случайного цвета для каждого кластера\n",
    "\n",
    "# Установка цветов для облака точек\n",
    "pcd.colors = o3d.utility.Vector3dVector(colors)\n",
    "\n",
    "# Визуализация кластеров\n",
    "o3d.visualization.draw_geometries([pcd])\n",
    "print(\"Количество кластеров:\", num_clusters_min)\n",
    "print(\"Количество кластеров:\", num_clusters_max)\n"
   ]
  },
  {
   "cell_type": "code",
   "execution_count": 9,
   "metadata": {},
   "outputs": [
    {
     "name": "stdout",
     "output_type": "stream",
     "text": [
      "Precompute neighbors.[========Количество кластеров: 0         ] 75%\n",
      "Precompute neighbors.[========================================] 100%\n"
     ]
    }
   ],
   "source": []
  },
  {
   "cell_type": "code",
   "execution_count": 4,
   "metadata": {},
   "outputs": [
    {
     "name": "stdout",
     "output_type": "stream",
     "text": [
      "Количество кластеров: 442\n",
      "Количество кластеров: 442\n"
     ]
    }
   ],
   "source": [
    "import open3d as o3d\n",
    "import numpy as np\n",
    "from sklearn.cluster import DBSCAN\n",
    "from sklearn.preprocessing import StandardScaler\n",
    "\n",
    "# Путь к файлу с облаком точек\n",
    "clustered_ply_file = 'D:/Cluster_proj/VIPCClustering/data/KITTI/velodyne/000008.bin'\n",
    "\n",
    "# Загрузка данных из файла\n",
    "with open(clustered_ply_file, 'rb') as f:\n",
    "    # Чтение данных из файла в массив numpy\n",
    "    velo_points = np.fromfile(f, dtype=np.float32).reshape(-1, 4)\n",
    "\n",
    "# Преобразование в облако точек Open3D\n",
    "pcd = o3d.geometry.PointCloud()\n",
    "pcd.points = o3d.utility.Vector3dVector(velo_points[:, :3])\n",
    "\n",
    "# Масштабирование данных\n",
    "scaler = StandardScaler()\n",
    "scaled_points_np = scaler.fit_transform(velo_points[:, :3])\n",
    "\n",
    "# Кластеризация DBSCAN\n",
    "eps = 0.1  # Пример значения для параметра epsilon\n",
    "min_samples = 10  # Пример значения для параметра min_samples\n",
    "dbscan = DBSCAN(eps=eps, min_samples=min_samples)\n",
    "labels = dbscan.fit_predict(scaled_points_np)\n",
    "num_clusters_max = labels.max() + 1\n",
    "num_clusters_min = len(np.unique(labels)) - 1  # Исключаем выбросы\n",
    "\n",
    "# Создание вектора цветов для визуализации кластеров\n",
    "num_points = len(velo_points)\n",
    "colors = np.zeros((num_points, 3))  # Создание массива нулевых цветов для всех точек\n",
    "for label in np.unique(labels):\n",
    "    if label == -1:\n",
    "        continue  # Пропустить выбросы\n",
    "    mask = labels == label\n",
    "    colors[mask] = np.random.rand(1, 3)  # Установка случайного цвета для каждого кластера\n",
    "\n",
    "# Установка цветов для облака точек\n",
    "pcd.colors = o3d.utility.Vector3dVector(colors)\n",
    "\n",
    "# Визуализация кластеров\n",
    "o3d.visualization.draw_geometries([pcd])\n",
    "print(\"Количество кластеров:\", num_clusters_min)\n",
    "print(\"Количество кластеров:\", num_clusters_max)\n"
   ]
  }
 ],
 "metadata": {
  "kernelspec": {
   "display_name": "cuda117",
   "language": "python",
   "name": "python3"
  },
  "language_info": {
   "codemirror_mode": {
    "name": "ipython",
    "version": 3
   },
   "file_extension": ".py",
   "mimetype": "text/x-python",
   "name": "python",
   "nbconvert_exporter": "python",
   "pygments_lexer": "ipython3",
   "version": "3.11.9"
  }
 },
 "nbformat": 4,
 "nbformat_minor": 2
}
