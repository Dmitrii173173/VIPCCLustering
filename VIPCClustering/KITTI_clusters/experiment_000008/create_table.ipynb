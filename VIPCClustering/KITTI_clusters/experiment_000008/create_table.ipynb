{
 "cells": [
  {
   "cell_type": "markdown",
   "metadata": {},
   "source": [
    "# CREATING TABLE FOR DISTANCE"
   ]
  },
  {
   "cell_type": "code",
   "execution_count": 11,
   "metadata": {},
   "outputs": [
    {
     "name": "stdout",
     "output_type": "stream",
     "text": [
      "Данные успешно сохранены в файл: D:\\Cluster_proj\\VIPCClustering\\KITTI_clusters\\experiment_000008\\cluster\\My_bbox_info.csv\n"
     ]
    }
   ],
   "source": [
    "import csv\n",
    "\n",
    "# Путь к файлу с данными\n",
    "file_path = r'D:\\Cluster_proj\\VIPCClustering\\KITTI_clusters\\experiment_000008\\cluster\\bbox_info.txt'\n",
    "\n",
    "# Словарь для хранения данных\n",
    "bbox_data = {}\n",
    "\n",
    "# Инициализация данных для всех возможных параллелепипедов\n",
    "for i in range(1, 31):\n",
    "    bbox_data[i] = {'point_count': 0, 'distance_to_origin': 0}\n",
    "\n",
    "# Чтение данных из файла и их парсинг\n",
    "with open(file_path, 'r', encoding='utf-8') as file:\n",
    "    lines = file.readlines()\n",
    "    i = 0\n",
    "    current_bbox = None\n",
    "    while i < len(lines):\n",
    "        if lines[i].startswith('Ограничивающий параллелепипед'):\n",
    "            parts = lines[i].split(':')\n",
    "            if len(parts) >= 2:\n",
    "                current_bbox = int(parts[0].split()[-1])\n",
    "            else:\n",
    "                print(\"Ошибка в формате строки. Проверьте файл.\")\n",
    "        elif current_bbox is not None:\n",
    "            if lines[i].startswith('Центр:'):\n",
    "                center_str = lines[i][8:].strip().rstrip(']').split(', ')\n",
    "                center = [float(coord) for coord in center_str]\n",
    "            elif lines[i].startswith('Количество точек в кластере:'):\n",
    "                bbox_data[current_bbox]['point_count'] = int(lines[i].split(':')[-1])\n",
    "            elif lines[i].startswith('Расстояние до центра координат:'):\n",
    "                bbox_data[current_bbox]['distance_to_origin'] = float(lines[i].split(':')[-1])\n",
    "        i += 1\n",
    "\n",
    "# Создание CSV-файла\n",
    "csv_file_path = r'D:\\Cluster_proj\\VIPCClustering\\KITTI_clusters\\experiment_000008\\cluster\\My_bbox_info.csv'\n",
    "with open(csv_file_path, 'w', newline='', encoding='utf-8') as csv_file:\n",
    "    writer = csv.writer(csv_file)\n",
    "    writer.writerow(['Номер параллелепипеда', 'Количество точек', 'Расстояние до координат'])\n",
    "    for bbox_number in range(1, 31):\n",
    "        writer.writerow([bbox_number, bbox_data[bbox_number]['point_count'], bbox_data[bbox_number]['distance_to_origin']])\n",
    "\n",
    "print(f\"Данные успешно сохранены в файл: {csv_file_path}\")\n"
   ]
  },
  {
   "cell_type": "markdown",
   "metadata": {},
   "source": [
    "# TABLE FOR index"
   ]
  },
  {
   "cell_type": "code",
   "execution_count": 13,
   "metadata": {},
   "outputs": [
    {
     "name": "stdout",
     "output_type": "stream",
     "text": [
      "Данные успешно сохранены в файл: D:\\Cluster_proj\\VIPCClustering\\KITTI_clusters\\experiment_000008\\cluster\\My_indexes_info.csv\n"
     ]
    }
   ],
   "source": [
    "import csv\n",
    "\n",
    "# Путь к файлу с данными\n",
    "indexes_file_path = r'D:\\Cluster_proj\\VIPCClustering\\KITTI_clusters\\experiment_000008\\cluster\\indexes.txt'\n",
    "\n",
    "# Список для хранения данных\n",
    "index_names = []\n",
    "index_values = []\n",
    "\n",
    "# Чтение данных из файла и их парсинг\n",
    "with open(indexes_file_path, 'r', encoding='utf-8') as file:\n",
    "    lines = file.readlines()\n",
    "    for line in lines:\n",
    "        parts = line.split(':')\n",
    "        if len(parts) == 2:\n",
    "            index_names.append(parts[0].strip())\n",
    "            index_values.append(float(parts[1]))\n",
    "\n",
    "# Создание CSV-файла\n",
    "csv_indexes_file_path = r'D:\\Cluster_proj\\VIPCClustering\\KITTI_clusters\\experiment_000008\\cluster\\My_indexes_info.csv'\n",
    "with open(csv_indexes_file_path, 'w', newline='', encoding='utf-8') as csv_file:\n",
    "    writer = csv.writer(csv_file)\n",
    "    writer.writerow(index_names)\n",
    "    writer.writerow(index_values)\n",
    "\n",
    "print(f\"Данные успешно сохранены в файл: {csv_indexes_file_path}\")\n"
   ]
  }
 ],
 "metadata": {
  "kernelspec": {
   "display_name": "venv_name",
   "language": "python",
   "name": "python3"
  },
  "language_info": {
   "codemirror_mode": {
    "name": "ipython",
    "version": 3
   },
   "file_extension": ".py",
   "mimetype": "text/x-python",
   "name": "python",
   "nbconvert_exporter": "python",
   "pygments_lexer": "ipython3",
   "version": "3.11.9"
  }
 },
 "nbformat": 4,
 "nbformat_minor": 2
}
